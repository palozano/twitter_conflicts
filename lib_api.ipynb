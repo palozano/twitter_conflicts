{
 "cells": [
  {
   "cell_type": "code",
   "execution_count": 1,
   "metadata": {},
   "outputs": [],
   "source": [
    "from searchtweets import (gen_request_parameters,\n",
    "                          load_credentials,\n",
    "                          collect_results)\n",
    "\n",
    "search_args = load_credentials(\n",
    "        \"../.twitter_keys.yaml\",\n",
    "        yaml_key=\"search_tweets_v2\",\n",
    "        env_overwrite=False)"
   ]
  },
  {
   "cell_type": "code",
   "execution_count": 2,
   "metadata": {},
   "outputs": [],
   "source": [
    "query = gen_request_parameters(\"snow\", results_per_call=100)\n",
    "\n",
    "tweets = collect_results(\n",
    "        query, \n",
    "        max_tweets=10,\n",
    "        result_stream_args=search_args)"
   ]
  },
  {
   "cell_type": "code",
   "execution_count": 3,
   "metadata": {},
   "outputs": [
    {
     "name": "stdout",
     "output_type": "stream",
     "text": [
      "RT @reigntulip: O’bear me away on snow white wings... https://t.co/CfxDyYrf41\n",
      "\n",
      "Year 7 and 13 - Water cycle 💦#geographyteacher https://t.co/O4R0cBrr4d\n",
      "\n",
      "@ryoss_572_snow んね！すき\n",
      "\n",
      "清水翔太さんの\n",
      "SNOW SMILE とても素敵な曲、素敵なMVです\n",
      "\n",
      "RT @9guys6: 『Lucky Man(嵐)』\n",
      "Snow Man\n",
      "\n",
      "クリエ見学 目黒蓮「歌舞伎の時は、大変お世話になりました」\n",
      "深澤「雑誌とかで、どんどん言っていこー！」\n",
      "まさか翌年の滝沢歌舞伎2018がターニングポイントになるとは誰も知らない頃\n",
      "\n",
      "深澤辰哉 渡辺翔太 岩…\n",
      "\n"
     ]
    }
   ],
   "source": [
    "for tweet in tweets[0:5]:\n",
    "    print(tweet['text'], end='\\n\\n')"
   ]
  },
  {
   "cell_type": "code",
   "execution_count": null,
   "metadata": {},
   "outputs": [],
   "source": []
  }
 ],
 "metadata": {
  "kernelspec": {
   "display_name": "Python 3",
   "language": "python",
   "name": "python3"
  },
  "language_info": {
   "codemirror_mode": {
    "name": "ipython",
    "version": 3
   },
   "file_extension": ".py",
   "mimetype": "text/x-python",
   "name": "python",
   "nbconvert_exporter": "python",
   "pygments_lexer": "ipython3",
   "version": "3.8.5"
  }
 },
 "nbformat": 4,
 "nbformat_minor": 4
}
