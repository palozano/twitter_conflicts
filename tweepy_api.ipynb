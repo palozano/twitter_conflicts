{
 "cells": [
  {
   "cell_type": "code",
   "execution_count": 17,
   "metadata": {},
   "outputs": [],
   "source": [
    "import tweepy\n",
    "import yaml"
   ]
  },
  {
   "cell_type": "code",
   "execution_count": 19,
   "metadata": {},
   "outputs": [],
   "source": [
    "with open('../.twitter_keys.yaml') as file:\n",
    "    document = yaml.full_load(file)\n",
    "    auth = tweepy.OAuthHandler(document['search_tweets_v2']['consumer_key'],\n",
    "                               document['search_tweets_v2']['consumer_secret'])\n",
    "    auth.set_access_token(document['search_tweets_v2']['access_token'],\n",
    "                          document['search_tweets_v2']['access_token_secret'])"
   ]
  },
  {
   "cell_type": "code",
   "execution_count": 20,
   "metadata": {},
   "outputs": [],
   "source": [
    "api = tweepy.API(auth)"
   ]
  },
  {
   "cell_type": "code",
   "execution_count": 22,
   "metadata": {},
   "outputs": [
    {
     "name": "stdout",
     "output_type": "stream",
     "text": [
      "palozano4\n",
      "85\n",
      "EncodePanda\n",
      "honnibal\n",
      "matplotlib\n",
      "pythontrending\n",
      "ThePSF\n",
      "spacy_io\n",
      "_inesmontani\n",
      "kubukoz\n",
      "sarahzhang\n",
      "sciencecohen\n",
      "rkhamsi\n",
      "ProofItEditing\n",
      "lhallwriter\n",
      "AdviceToWriters\n",
      "EricTopol\n",
      "glitch\n",
      "jessicagarson\n",
      "uvmcomplexity\n",
      "AlanMBarrett\n",
      "CSHVienna\n"
     ]
    }
   ],
   "source": [
    "user = api.get_user('palozano4')\n",
    "\n",
    "print(\"Nombre: {}\\n\".format(user.screen_name))\n",
    "print(\"Numero de followers: {}\\n\".format(user.followers_count))\n",
    "\n",
    "print(\"Seguidores\")\n",
    "for friend in user.friends():\n",
    "    print(friend.screen_name)"
   ]
  },
  {
   "cell_type": "code",
   "execution_count": 23,
   "metadata": {},
   "outputs": [
    {
     "data": {
      "text/plain": [
       "20"
      ]
     },
     "execution_count": 23,
     "metadata": {},
     "output_type": "execute_result"
    }
   ],
   "source": [
    "len(user.friends())"
   ]
  },
  {
   "cell_type": "code",
   "execution_count": null,
   "metadata": {},
   "outputs": [],
   "source": []
  }
 ],
 "metadata": {
  "kernelspec": {
   "display_name": "Python 3",
   "language": "python",
   "name": "python3"
  },
  "language_info": {
   "codemirror_mode": {
    "name": "ipython",
    "version": 3
   },
   "file_extension": ".py",
   "mimetype": "text/x-python",
   "name": "python",
   "nbconvert_exporter": "python",
   "pygments_lexer": "ipython3",
   "version": "3.8.5"
  }
 },
 "nbformat": 4,
 "nbformat_minor": 4
}
