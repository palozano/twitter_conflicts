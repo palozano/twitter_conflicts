{
 "cells": [
  {
   "cell_type": "code",
   "execution_count": 7,
   "metadata": {},
   "outputs": [],
   "source": [
    "from searchtweets import (ResultStream,\n",
    "                          gen_request_parameters,\n",
    "                          load_credentials,\n",
    "                          collect_results)\n",
    "\n",
    "search_args = load_credentials(\n",
    "        \"../.twitter_keys.yaml\",\n",
    "        yaml_key=\"search_tweets_v2\",\n",
    "        env_overwrite=False)"
   ]
  },
  {
   "cell_type": "code",
   "execution_count": 27,
   "metadata": {},
   "outputs": [
    {
     "name": "stdout",
     "output_type": "stream",
     "text": [
      "{\"query\":\"snow -is:retweet\",\"max_results\":50,\"start_time\":\"2021-03-28T00:00:00Z\",\"end_time\":\"2021-03-29T00:00:00Z\"}\n"
     ]
    }
   ],
   "source": [
    "query = gen_request_parameters(\"snow -is:retweet\",\n",
    "                               start_time='2021-03-28',\n",
    "                               end_time='2021-03-29',\n",
    "                               results_per_call=50)\n",
    "print(query)"
   ]
  },
  {
   "cell_type": "markdown",
   "metadata": {},
   "source": [
    "## `search_args`"
   ]
  },
  {
   "cell_type": "code",
   "execution_count": 23,
   "metadata": {},
   "outputs": [],
   "source": [
    "tweets = collect_results(query, max_tweets=10, \n",
    "                         result_stream_args=search_args)"
   ]
  },
  {
   "cell_type": "code",
   "execution_count": 24,
   "metadata": {},
   "outputs": [
    {
     "name": "stdout",
     "output_type": "stream",
     "text": [
      "#ABfire #ABwildfire🇨🇦 #ABstorm #wildfire \n",
      "➡️Great video by @KyleTWN of @weathernetwork, explaining current area weather, (high winds), + tonight's snow forecast and fire effects.\n",
      "#Carmangay #Claresholm #Lethbridge #Alberta https://t.co/4RxRPdlAku\n",
      "\n",
      "Tom and Harry enjoying the snow~ \n",
      "For my dear friend @MoonlightModoki 💕 \n",
      "\n",
      "#HarryPotter #TomRiddle #tomarry https://t.co/L3doNth2PZ\n",
      "\n",
      "@Mayu_Fuka_snow うちの娘も「友達名義大勝利！！」みたいな感じよ？？\n",
      "友達名義をお支払いしたご両親の努力を話したら「あー🙃ソウダネー」でした。\n",
      "申し訳ない🤦‍♀️\n",
      "ライバルたくさんのふみとつ連番ね？\n",
      "ふみとつ大勝利。\n",
      "大優勝？\n",
      "使い慣れてないからわからないね( ꒪ͧд꒪ͧ)\n",
      "\n",
      "Snow Man  4月 金曜マンスリーゲストおめでとう🎊授業が始まる4月だけど、朝から生放送で見れるのは嬉しい！見て元気貰ってから学校行ける！(1限からじゃなければ)\n",
      "#ラヴィット  #SnowMan\n",
      "\n",
      "not to mention the follow up “trying to find ourselves in the winter snow”\n",
      "\n"
     ]
    }
   ],
   "source": [
    "for tweet in tweets[0:5]:\n",
    "    print((tweet['text']), end='\\n\\n')"
   ]
  },
  {
   "cell_type": "code",
   "execution_count": 28,
   "metadata": {},
   "outputs": [
    {
     "data": {
      "text/plain": [
       "{'id': '1376323204793294849',\n",
       " 'text': \"#ABfire #ABwildfire🇨🇦 #ABstorm #wildfire \\n➡️Great video by @KyleTWN of @weathernetwork, explaining current area weather, (high winds), + tonight's snow forecast and fire effects.\\n#Carmangay #Claresholm #Lethbridge #Alberta https://t.co/4RxRPdlAku\"}"
      ]
     },
     "execution_count": 28,
     "metadata": {},
     "output_type": "execute_result"
    }
   ],
   "source": [
    "tweets[0]"
   ]
  },
  {
   "cell_type": "markdown",
   "metadata": {},
   "source": [
    "## `ResultStream`"
   ]
  },
  {
   "cell_type": "code",
   "execution_count": 3,
   "metadata": {},
   "outputs": [
    {
     "name": "stdout",
     "output_type": "stream",
     "text": [
      "ResultStream: \n",
      "\t{\n",
      "    \"endpoint\": \"https:\\/\\/api.twitter.com\\/2\\/tweets\\/search\\/all\",\n",
      "    \"request_parameters\": {\n",
      "        \"query\": \"snow -is:retweet\",\n",
      "        \"max_results\": 10,\n",
      "        \"start_time\": \"2021-03-28T00:00:00Z\",\n",
      "        \"end_time\": \"2021-03-29T00:00:00Z\"\n",
      "    },\n",
      "    \"max_tweets\": 500\n",
      "}\n"
     ]
    }
   ],
   "source": [
    "query = gen_request_parameters(\"snow -is:retweet\",\n",
    "                               start_time='2021-03-28',\n",
    "                               end_time='2021-03-29',\n",
    "                               results_per_call=10)\n",
    "\n",
    "rs = ResultStream(request_parameters=query,\n",
    "                  max_results=50,\n",
    "                  max_pages=1,\n",
    "                  **search_args)\n",
    "\n",
    "print(rs)"
   ]
  },
  {
   "cell_type": "code",
   "execution_count": null,
   "metadata": {},
   "outputs": [],
   "source": []
  }
 ],
 "metadata": {
  "kernelspec": {
   "display_name": "Python 3",
   "language": "python",
   "name": "python3"
  },
  "language_info": {
   "codemirror_mode": {
    "name": "ipython",
    "version": 3
   },
   "file_extension": ".py",
   "mimetype": "text/x-python",
   "name": "python",
   "nbconvert_exporter": "python",
   "pygments_lexer": "ipython3",
   "version": "3.8.5"
  }
 },
 "nbformat": 4,
 "nbformat_minor": 4
}
